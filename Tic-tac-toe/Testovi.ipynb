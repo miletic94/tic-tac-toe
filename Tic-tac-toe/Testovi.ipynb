{
 "cells": [
  {
   "cell_type": "code",
   "execution_count": 3,
   "metadata": {},
   "outputs": [
    {
     "data": {
      "text/plain": [
       "'\\n two_by_two = np.array([board[0:2, 0:2],\\n                            board[0:2, 1:3],\\n                            board[0:2, 2:4],\\n                            board[1:3, 0:2],\\n                            board[1:3, 1:3],\\n                            board[1:3, 2:4],\\n                            board[2:4, 0:2],\\n                            board[2:4, 1:3],\\n                            board[2:4, 2:4]])\\n    tbt = np.array([np.all(i==PLAYER) for i in two_by_two])\\n    tbt = np.any(tbt)\\n'"
      ]
     },
     "execution_count": 3,
     "metadata": {},
     "output_type": "execute_result"
    }
   ],
   "source": [
    "PLAYER = \"X\"\n",
    "def check_win(board):\n",
    "    # VARIABLES:\n",
    "    # win  holding did someno win (true/false)\n",
    "    # score holding score based on who won\n",
    "    # wining_strike # holding what is strike that led to win\n",
    "    score = 0\n",
    "    # rows\n",
    "    r = np.any(np.all(board == PLAYER, axis = 1))\n",
    "    # columns\n",
    "    c = np.any(np.all(board == PLAYER, axis = 0))\n",
    "    # diagonals\n",
    "    d1_index = [range(0,3), range(0,3)]\n",
    "    d1 = board[tuple(d1_index)]\n",
    "    d1 = np.any(np.all(d1 == PLAYER))\n",
    "\n",
    "    d2_index = [range(0,3),range(2,-1,-1)]\n",
    "    d2 = board[tuple(d2_index)]\n",
    "    d2 = np.any(np.all(d2 == PLAYER))\n",
    "    \n",
    "            # ADD WINING STRIKE FOR BOXES\n",
    "    # two by two [OPTIMIZE] \n",
    "\n",
    "    # result\n",
    "    win = np.array([r, c, d1, d2])\n",
    "    win = np.any(win)\n",
    "    if win == True:\n",
    "        if PLAYER == \"X\":\n",
    "            score = 1\n",
    "        elif PLAYER == \"O\":\n",
    "            score = -1\n",
    "\n",
    "            # If result isn't True you don't have to do this\n",
    "    # returning wining strike\n",
    "    wining_strike = None \n",
    "#    if r:\n",
    "#        wining_strike = np.array([[button_index[0]]*4, range(0,4)])\n",
    "#    elif c: wining_strike = np.array([range(0,4), [button_index[0]]*4])\n",
    "#    elif d1:\n",
    "#        wining_strike = d1_index\n",
    "#    elif d2:\n",
    "#        wining_strike = d2_index\n",
    "    return {\n",
    "        \"win\":win,\n",
    "        \"score\":score,\n",
    "        \"wining_strike\":wining_strike\n",
    "    }\n",
    "\n",
    "\"\"\"\n",
    " two_by_two = np.array([board[0:2, 0:2],\n",
    "                            board[0:2, 1:3],\n",
    "                            board[0:2, 2:4],\n",
    "                            board[1:3, 0:2],\n",
    "                            board[1:3, 1:3],\n",
    "                            board[1:3, 2:4],\n",
    "                            board[2:4, 0:2],\n",
    "                            board[2:4, 1:3],\n",
    "                            board[2:4, 2:4]])\n",
    "    tbt = np.array([np.all(i==PLAYER) for i in two_by_two])\n",
    "    tbt = np.any(tbt)\n",
    "\"\"\"  "
   ]
  },
  {
   "cell_type": "code",
   "execution_count": 45,
   "metadata": {
    "collapsed": true
   },
   "outputs": [
    {
     "data": {
      "text/plain": [
       "'\\n    3D BOARD\\n\\nboard = np.array([[\"X\",\"X\", \"\"],\\n                  [\"O\", \"X\",\"O\"],\\n                  [\"\",  \"\",  \"O\"]])\\n'"
      ]
     },
     "execution_count": 45,
     "metadata": {},
     "output_type": "execute_result"
    }
   ],
   "source": [
    "\"\"\"\n",
    "    3D BOARD\n",
    "\n",
    "board = np.array([[\"X\",\"X\", \"\"],\n",
    "                  [\"O\", \"X\",\"O\"],\n",
    "                  [\"\",  \"\",  \"O\"]])\n",
    "\"\"\"\n"
   ]
  },
  {
   "cell_type": "code",
   "execution_count": 26,
   "metadata": {},
   "outputs": [
    {
     "name": "stdout",
     "output_type": "stream",
     "text": [
      "WIN\n",
      "[['X' 'O' 'X']\n",
      " ['O' 'O' 'X']\n",
      " ['X' 'O' 'X']]\n",
      "[['X' 'O' 'X']\n",
      " ['O' 'O' 'X']\n",
      " ['X' 'X' '']]\n"
     ]
    }
   ],
   "source": [
    "import numpy as np\n",
    "\n",
    "pos_boards = []\n",
    "board = np.array([[\"X\",\"O\",\"X\"],\n",
    "                  [\"O\",\"O\",\"X\"],\n",
    "                  [\"X\",\"\",\"\"]])\n",
    "\n",
    "def minimax(board, depth, alpha, beta, is_maximizing):\n",
    "    \n",
    "    empty = np.where(board==\"\")\n",
    "    empty = [(empty[0][i], empty[1][i]) for i in range(len(empty[1]))]\n",
    "    score = check_win(board)\n",
    "    \n",
    "    if depth == 0 or len(empty) < 1 or score[\"win\"]==True:\n",
    "        if score[\"win\"] == True:\n",
    "            print(\"score[win]\")\n",
    "        return score[\"score\"]\n",
    "    \n",
    "    \n",
    "    if is_maximizing == True:\n",
    "        maxEval = float(\"-inf\")\n",
    "        \n",
    "        for e in empty:\n",
    "            \n",
    "            b = board.copy()\n",
    "            b[e] = \"X\"\n",
    "            \n",
    "            score = check_win(b)\n",
    "            if score[\"win\"] == True:\n",
    "                print(\"WIN\")\n",
    "                print(b)\n",
    "                return score[\"score\"]\n",
    "                break\n",
    "                \n",
    "            ev = minimax(b, depth-1, float(\"-inf\"), float(\"inf\"), False)\n",
    "    \n",
    "            pos_boards.append(b)\n",
    "            \n",
    "            maxEval = max(maxEval, ev)\n",
    "            alpha = max(alpha, ev)\n",
    "            if beta <= alpha:\n",
    "                return\n",
    "        return maxEval\n",
    " \n",
    "    if is_maximizing == False:\n",
    "        minEval = float(\"inf\")\n",
    "        \n",
    "        for e in empty:\n",
    "            \n",
    "            b = board.copy()\n",
    "            b[e] = \"O\"\n",
    "            \n",
    "            score = check_win(b)\n",
    "            if score[\"win\"] == True:\n",
    "                print(\"WIN\")\n",
    "                print(b)\n",
    "                return score[\"score\"]\n",
    "                break\n",
    "                \n",
    "            ev = minimax(b, depth-1, float(\"-inf\"), float(\"inf\"), True)\n",
    "            \n",
    "            pos_boards.append(b)\n",
    "            \n",
    "            minEval = min(minEval, ev)\n",
    "            beta = min(beta, ev)\n",
    "            if beta <= alpha:\n",
    "                return\n",
    "        return minEval\n",
    "    \n",
    "def best_move():\n",
    "    best_score = float(\"-inf\")\n",
    "    move = None\n",
    "    e = np.where(board==\"\")\n",
    "    e = [(e[0][i], e[1][i]) for i in range(len(e[1]))]\n",
    "    for i in e:\n",
    "        board[i] = \"O\"\n",
    "        score = minimax(board, 5, float(\"-inf\"), float(\"inf\"), True)\n",
    "        board[i] = \"\"\n",
    "        if score > best_score:\n",
    "            best_score = score\n",
    "            move = i\n",
    "    board[move] = \"X\"\n",
    "    \n",
    "best_move()\n",
    "print(board)"
   ]
  },
  {
   "cell_type": "code",
   "execution_count": 156,
   "metadata": {},
   "outputs": [
    {
     "data": {
      "text/plain": [
       "{'win': True, 'score': 1, 'wining_strike': None}"
      ]
     },
     "execution_count": 156,
     "metadata": {},
     "output_type": "execute_result"
    }
   ],
   "source": [
    "b = np.array([['X', '', 'O', 'O'],\n",
    " ['', 'X', '', 'O'],\n",
    " ['', '', 'X', ''],\n",
    " ['', '', '', 'X']])\n",
    "check_win(b)"
   ]
  }
 ],
 "metadata": {
  "kernelspec": {
   "display_name": "Python 3",
   "language": "python",
   "name": "python3"
  },
  "language_info": {
   "codemirror_mode": {
    "name": "ipython",
    "version": 3
   },
   "file_extension": ".py",
   "mimetype": "text/x-python",
   "name": "python",
   "nbconvert_exporter": "python",
   "pygments_lexer": "ipython3",
   "version": "3.9.0"
  }
 },
 "nbformat": 4,
 "nbformat_minor": 4
}
